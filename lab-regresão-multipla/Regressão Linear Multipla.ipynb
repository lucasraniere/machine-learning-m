{
 "cells": [
  {
   "cell_type": "markdown",
   "metadata": {},
   "source": [
    "## Regressão Linear Mútipla"
   ]
  },
  {
   "cell_type": "markdown",
   "metadata": {},
   "source": [
    "### SciKit"
   ]
  },
  {
   "cell_type": "code",
   "execution_count": 1,
   "metadata": {},
   "outputs": [],
   "source": [
    "import pandas as pd\n",
    "from sklearn.linear_model import LinearRegression\n",
    "import numpy as np\n",
    "import math\n",
    "import time"
   ]
  },
  {
   "cell_type": "code",
   "execution_count": 2,
   "metadata": {},
   "outputs": [],
   "source": [
    "data = pd.read_csv('sample_treino.csv')\n",
    "\n",
    "x = pd.DataFrame(data[['Cálculo1', 'LPT', 'P1', 'IC', 'Cálculo2']]).values\n",
    "y = pd.DataFrame(data[['cra']]).values\n",
    "\n",
    "#print(x)\n",
    "#print(y)\n",
    "\n",
    "tempo_s = time.time()\n",
    "\n",
    "linear_model = LinearRegression()\n",
    "linear_model.fit(x,y)\n",
    "\n",
    "tempo_f = time.time()"
   ]
  },
  {
   "cell_type": "code",
   "execution_count": 3,
   "metadata": {},
   "outputs": [
    {
     "name": "stdout",
     "output_type": "stream",
     "text": [
      "Tempo: -1.8274784088134766, Intercept: [1.73771151], Coeficientes Lineares: [[0.10304143 0.0464367  0.16409834 0.38117843 0.02027816]], Erro: 0.42380324095121114\n"
     ]
    }
   ],
   "source": [
    "print(\"Tempo: {0}, Intercept: {1}, Coeficientes Lineares: {2}, Erro: {3}\".format(str(1000*(tempo_s-tempo_f)), linear_model.intercept_, linear_model.coef_, linear_model.score(x,y)))"
   ]
  },
  {
   "cell_type": "markdown",
   "metadata": {},
   "source": [
    "### Versão vetorizada derivada da regressão simples"
   ]
  },
  {
   "cell_type": "markdown",
   "metadata": {},
   "source": [
    " 𝑀𝑆𝐸(𝑤̂ )=1𝑁(𝑦−𝐰̂ 𝑇𝐱)𝑇(𝑦−𝐰̂ 𝑇𝐱)"
   ]
  },
  {
   "cell_type": "code",
   "execution_count": 4,
   "metadata": {},
   "outputs": [],
   "source": [
    "def compute_mse_vectorized(w,X,Y):\n",
    "    res = Y - np.dot(X,w)\n",
    "    totalError = np.dot(res.T,res)\n",
    "    return totalError / float(len(Y))"
   ]
  },
  {
   "cell_type": "code",
   "execution_count": 5,
   "metadata": {},
   "outputs": [],
   "source": [
    "def step_gradient_vectorized(w_current,X,Y,learningRate):\n",
    "    res = Y - np.dot(X, w_current) \n",
    "    gradient = np.multiply(-2, np.dot(X.T, res))\n",
    "    new_w = w_current - (np.multiply(learningRate, gradient)) \n",
    "\n",
    "    return [new_w, gradient]"
   ]
  },
  {
   "cell_type": "code",
   "execution_count": 6,
   "metadata": {},
   "outputs": [],
   "source": [
    "def gradient_descent_runner_vectorized(starting_w, X,Y, learning_rate, epsilon):\n",
    "    w = starting_w\n",
    "    grad = np.array([np.inf, np.inf, np.inf, np.inf, np.inf, np.inf])\n",
    "    i = 0\n",
    "    while (np.linalg.norm(grad)>=epsilon):\n",
    "        w,grad = step_gradient_vectorized(w, X, Y, learning_rate)\n",
    "\n",
    "    return w"
   ]
  },
  {
   "cell_type": "code",
   "execution_count": 7,
   "metadata": {},
   "outputs": [],
   "source": [
    "#points = pd.read_csv('sample_treino.csv')\n",
    "points = np.c_[np.ones(len(data)),data]\n",
    "\n",
    "#x = points[:,['Cálculo1', 'LPT', 'P1', 'IC', 'Cálculo2']] \n",
    "#y = points[:,'cra'][:,np.newaxis] \n",
    "x = points[1:,:6]\n",
    "y = points[1:,6][:,np.newaxis]\n",
    "\n",
    "init_w = np.zeros((6,1))\n",
    "learning_rate = 0.003\n",
    "epsilon = 0.01\n",
    "\n",
    "#print(x)\n",
    "#print(y)"
   ]
  },
  {
   "cell_type": "code",
   "execution_count": 8,
   "metadata": {},
   "outputs": [
    {
     "name": "stdout",
     "output_type": "stream",
     "text": [
      "Tempo: 19185.649871826172, Coeficientes: [[1.73689751 0.10305602 0.04647395 0.16409649 0.38121976 0.02028817]], Erro: [[0.41133759]]\n"
     ]
    }
   ],
   "source": [
    "points = np.c_[np.ones(len(data)),data]\n",
    "\n",
    "x = points[:,[0,1,2,3,4,5]]\n",
    "y = points[:,6][:,np.newaxis]\n",
    "\n",
    "init_w = np.zeros((6,1))\n",
    "learning_rate = 0.00001\n",
    "epsilon = 0.001\n",
    "\n",
    "tempo_s = time.time()\n",
    "w = gradient_descent_runner_vectorized(init_w, x,y, learning_rate, epsilon)\n",
    "tempo_f = time.time()\n",
    "\n",
    "erro = compute_mse_vectorized(w, x, y)\n",
    "\n",
    "tempo = str(1000*(tempo_f - tempo_s))\n",
    "print(\"Tempo: {0}, Coeficientes: {1}, Erro: {2}\".format(tempo, w.T, erro))\n"
   ]
  },
  {
   "cell_type": "code",
   "execution_count": null,
   "metadata": {},
   "outputs": [],
   "source": []
  }
 ],
 "metadata": {
  "kernelspec": {
   "display_name": "Python 3",
   "language": "python",
   "name": "python3"
  },
  "language_info": {
   "codemirror_mode": {
    "name": "ipython",
    "version": 3
   },
   "file_extension": ".py",
   "mimetype": "text/x-python",
   "name": "python",
   "nbconvert_exporter": "python",
   "pygments_lexer": "ipython3",
   "version": "3.7.1"
  }
 },
 "nbformat": 4,
 "nbformat_minor": 2
}
